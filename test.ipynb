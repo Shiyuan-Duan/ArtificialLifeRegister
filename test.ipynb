{
 "cells": [
  {
   "cell_type": "code",
   "execution_count": 1,
   "metadata": {},
   "outputs": [
    {
     "data": {
      "text/html": [
       "<table class=\"show_images\" style=\"border-spacing:0px;\"><tr><td style=\"padding:1px;\"><img width=\"320\" height=\"240\" style=\"image-rendering:auto; object-fit:cover;\" src=\"data:image/png;base64,iVBORw0KGgoAAAANSUhEUgAAAUAAAADwCAIAAAD+Tyo8AAAA9UlEQVR4nO3BAQEAAACCIP+vbkhAAQAAAAAAAAAAAAAAAAAAAAAAAAAAAAAAAAAAAAAAAAAAAAAAAAAAAAAAAAAAAAAAAAAAAAAAAAAAAAAAAAAAAAAAAAAAAAAAAAAAAAAAAAAAAAAAAAAAAAAAAAAAAAAAAAAAAAAAAAAAAAAAAAAAAAAAAAAAAAAAAAAAAAAAAAAAAAAAAAAAAAAAAAAAAAAAAAAAAAAAAAAAAAAAAAAAAAAAAAAAAAAAAAAAAAAAAAAAAAAAAAAAAAAAAAAAAAAAAAAAAAAAAAAAAAAAAAAAAAAAAAAAAAAAAAAAAAAAAPBohR0AAXbPpmUAAAAASUVORK5CYII=\"/></td></tr></table>"
      ],
      "text/plain": [
       "<IPython.core.display.HTML object>"
      ]
     },
     "metadata": {},
     "output_type": "display_data"
    }
   ],
   "source": [
    "import mujoco\n",
    "import os\n",
    "import mediapy as media\n",
    "\n",
    "model_path = 'source.xml'\n",
    "xml = \"\"\"\n",
    "<mujoco>\n",
    "    <worldbody>\n",
    "        <light diffuse=\".5 .5 .5\" pos=\"0 0 3\" dir=\"0 0 -1\"/>\n",
    "        <geom type=\"plane\" size=\"1 1 0.1\" rgba=\".9 0 0 1\"/>\n",
    "        <body pos=\"0 0 1\">\n",
    "            <joint type=\"free\"/>\n",
    "            <geom type=\"box\" size=\".1 .2 .3\" rgba=\"0 .9 0 1\"/>\n",
    "        </body>\n",
    "    </worldbody>\n",
    "</mujoco>\n",
    "\"\"\"\n",
    "# Load model from the XML file\n",
    "model = mujoco.MjModel.from_xml_string(xml)\n",
    "\n",
    "model = mujoco.MjModel.from_xml_string(xml)\n",
    "data = mujoco.MjData(model)\n",
    "\n",
    "# Make renderer, render and show the pixels\n",
    "renderer = mujoco.Renderer(model)\n",
    "media.show_image(renderer.render())\n"
   ]
  },
  {
   "cell_type": "code",
   "execution_count": 2,
   "metadata": {},
   "outputs": [
    {
     "data": {
      "text/html": [
       "<table class=\"show_images\" style=\"border-spacing:0px;\"><tr><td style=\"padding:1px;\"><img width=\"320\" height=\"240\" style=\"image-rendering:auto; object-fit:cover;\" src=\"data:image/png;base64,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\"/></td></tr></table>"
      ],
      "text/plain": [
       "<IPython.core.display.HTML object>"
      ]
     },
     "metadata": {},
     "output_type": "display_data"
    }
   ],
   "source": [
    "mujoco.mj_forward(model, data)\n",
    "renderer.update_scene(data)\n",
    "\n",
    "media.show_image(renderer.render())"
   ]
  },
  {
   "cell_type": "code",
   "execution_count": null,
   "metadata": {},
   "outputs": [],
   "source": []
  }
 ],
 "metadata": {
  "kernelspec": {
   "display_name": "mujoco-test",
   "language": "python",
   "name": "python3"
  },
  "language_info": {
   "codemirror_mode": {
    "name": "ipython",
    "version": 3
   },
   "file_extension": ".py",
   "mimetype": "text/x-python",
   "name": "python",
   "nbconvert_exporter": "python",
   "pygments_lexer": "ipython3",
   "version": "3.1.0"
  }
 },
 "nbformat": 4,
 "nbformat_minor": 2
}
